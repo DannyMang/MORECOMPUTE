{
  "cells": [
    {
      "cell_type": "code",
      "source": "",
      "outputs": [
        {
          "output_type": "stream",
          "name": "stdout",
          "text": "Requirement already satisfied: aiofiles in /Users/danielung/miniconda3/lib/python3.11/site-packages (24.1.0)\nCollecting aioconsole\n  Downloading aioconsole-0.8.1-py3-none-any.whl.metadata (46 kB)\nDownloading aioconsole-0.8.1-py3-none-any.whl (43 kB)\nInstalling collected packages: aioconsole\nSuccessfully installed aioconsole-0.8.1\n"
        }
      ],
      "execution_count": 2
    }
  ],
  "metadata": {},
  "nbformat": 4,
  "nbformat_minor": 5
}