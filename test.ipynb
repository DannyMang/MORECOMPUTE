{
  "cells": [
    {
      "cell_type": "code",
      "source": "!pip install aiofiles aioconsole",
      "outputs": [
        {
          "output_type": "stream",
          "name": "stdout",
          "text": "Collecting aiofiles\n  Downloading aiofiles-24.1.0-py3-none-any.whl.metadata (10 kB)\nDownloading aiofiles-24.1.0-py3-none-any.whl (15 kB)\nInstalling collected packages: aiofiles\nSuccessfully installed aiofiles-24.1.0\n"
        }
      ],
      "execution_count": 1
    }
  ],
  "metadata": {},
  "nbformat": 4,
  "nbformat_minor": 5
}